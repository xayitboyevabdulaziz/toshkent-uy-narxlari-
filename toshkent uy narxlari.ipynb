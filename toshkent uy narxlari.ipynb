{
 "cells": [
  {
   "cell_type": "markdown",
   "metadata": {},
   "source": [
    "Ustunlar ta'rifi\n",
    "location - sotilayotgan uy manzili\n",
    "district - uy joylashgan tuman\n",
    "rooms - xonalar soni\n",
    "size - uy maydoni (kv.m)\n",
    "level - uy joylashgan qavat\n",
    "max_levels - ja'mi qavatlar soni\n",
    "price - uy narxi|"
   ]
  },
  {
   "cell_type": "code",
   "execution_count": 605,
   "metadata": {},
   "outputs": [
    {
     "data": {
      "text/html": [
       "<div>\n",
       "<style scoped>\n",
       "    .dataframe tbody tr th:only-of-type {\n",
       "        vertical-align: middle;\n",
       "    }\n",
       "\n",
       "    .dataframe tbody tr th {\n",
       "        vertical-align: top;\n",
       "    }\n",
       "\n",
       "    .dataframe thead th {\n",
       "        text-align: right;\n",
       "    }\n",
       "</style>\n",
       "<table border=\"1\" class=\"dataframe\">\n",
       "  <thead>\n",
       "    <tr style=\"text-align: right;\">\n",
       "      <th></th>\n",
       "      <th>location</th>\n",
       "      <th>district</th>\n",
       "      <th>rooms</th>\n",
       "      <th>size</th>\n",
       "      <th>level</th>\n",
       "      <th>max_levels</th>\n",
       "      <th>price</th>\n",
       "    </tr>\n",
       "  </thead>\n",
       "  <tbody>\n",
       "    <tr>\n",
       "      <th>0</th>\n",
       "      <td>город Ташкент, Юнусабадский район, Юнусабад 8-...</td>\n",
       "      <td>Юнусабадский</td>\n",
       "      <td>3</td>\n",
       "      <td>57</td>\n",
       "      <td>4</td>\n",
       "      <td>4</td>\n",
       "      <td>52000</td>\n",
       "    </tr>\n",
       "    <tr>\n",
       "      <th>1</th>\n",
       "      <td>город Ташкент, Яккасарайский район, 1-й тупик ...</td>\n",
       "      <td>Яккасарайский</td>\n",
       "      <td>2</td>\n",
       "      <td>52</td>\n",
       "      <td>4</td>\n",
       "      <td>5</td>\n",
       "      <td>56000</td>\n",
       "    </tr>\n",
       "    <tr>\n",
       "      <th>2</th>\n",
       "      <td>город Ташкент, Чиланзарский район, Чиланзар 2-...</td>\n",
       "      <td>Чиланзарский</td>\n",
       "      <td>2</td>\n",
       "      <td>42</td>\n",
       "      <td>4</td>\n",
       "      <td>4</td>\n",
       "      <td>37000</td>\n",
       "    </tr>\n",
       "    <tr>\n",
       "      <th>3</th>\n",
       "      <td>город Ташкент, Чиланзарский район, Чиланзар 9-...</td>\n",
       "      <td>Чиланзарский</td>\n",
       "      <td>3</td>\n",
       "      <td>65</td>\n",
       "      <td>1</td>\n",
       "      <td>4</td>\n",
       "      <td>49500</td>\n",
       "    </tr>\n",
       "    <tr>\n",
       "      <th>4</th>\n",
       "      <td>город Ташкент, Чиланзарский район, площадь Актепа</td>\n",
       "      <td>Чиланзарский</td>\n",
       "      <td>3</td>\n",
       "      <td>70</td>\n",
       "      <td>3</td>\n",
       "      <td>5</td>\n",
       "      <td>55000</td>\n",
       "    </tr>\n",
       "  </tbody>\n",
       "</table>\n",
       "</div>"
      ],
      "text/plain": [
       "                                            location       district  rooms  \\\n",
       "0  город Ташкент, Юнусабадский район, Юнусабад 8-...   Юнусабадский      3   \n",
       "1  город Ташкент, Яккасарайский район, 1-й тупик ...  Яккасарайский      2   \n",
       "2  город Ташкент, Чиланзарский район, Чиланзар 2-...   Чиланзарский      2   \n",
       "3  город Ташкент, Чиланзарский район, Чиланзар 9-...   Чиланзарский      3   \n",
       "4  город Ташкент, Чиланзарский район, площадь Актепа   Чиланзарский      3   \n",
       "\n",
       "  size  level  max_levels  price  \n",
       "0   57      4           4  52000  \n",
       "1   52      4           5  56000  \n",
       "2   42      4           4  37000  \n",
       "3   65      1           4  49500  \n",
       "4   70      3           5  55000  "
      ]
     },
     "execution_count": 605,
     "metadata": {},
     "output_type": "execute_result"
    }
   ],
   "source": [
    "import pandas as pd\n",
    "df = pd.read_csv('https://raw.githubusercontent.com/anvarnarz/praktikum_datasets/main/housing_data_08-02-2021.csv')\n",
    "df.head()"
   ]
  },
  {
   "cell_type": "code",
   "execution_count": 606,
   "metadata": {},
   "outputs": [],
   "source": [
    "import numpy as np\n",
    "import seaborn as sns\n",
    "import matplotlib.pyplot as plt\n",
    "import sklearn"
   ]
  },
  {
   "cell_type": "code",
   "execution_count": 730,
   "metadata": {},
   "outputs": [],
   "source": [
    "df=df.drop(columns=\"location\")"
   ]
  },
  {
   "cell_type": "code",
   "execution_count": 611,
   "metadata": {},
   "outputs": [],
   "source": [
    "price_o=df.loc[df[\"price\"]=='Договорная'].index"
   ]
  },
  {
   "cell_type": "code",
   "execution_count": 612,
   "metadata": {},
   "outputs": [],
   "source": [
    "#'Площадьземли:1сот\n",
    "size_o=df.loc[df[\"size\"]=='Площадьземли:1сот'].index"
   ]
  },
  {
   "cell_type": "code",
   "execution_count": 613,
   "metadata": {},
   "outputs": [],
   "source": [
    "df=df.drop(index=size_o)\n",
    "df=df.drop(index=price_o)"
   ]
  },
  {
   "cell_type": "code",
   "execution_count": 615,
   "metadata": {},
   "outputs": [],
   "source": [
    "df[\"price\"]=df[\"price\"].astype(\"int64\")"
   ]
  },
  {
   "cell_type": "code",
   "execution_count": 616,
   "metadata": {},
   "outputs": [],
   "source": [
    "df[\"size\"]=df[\"size\"].astype(\"float64\")"
   ]
  },
  {
   "cell_type": "code",
   "execution_count": 727,
   "metadata": {},
   "outputs": [
    {
     "data": {
      "text/html": [
       "<div>\n",
       "<style scoped>\n",
       "    .dataframe tbody tr th:only-of-type {\n",
       "        vertical-align: middle;\n",
       "    }\n",
       "\n",
       "    .dataframe tbody tr th {\n",
       "        vertical-align: top;\n",
       "    }\n",
       "\n",
       "    .dataframe thead th {\n",
       "        text-align: right;\n",
       "    }\n",
       "</style>\n",
       "<table border=\"1\" class=\"dataframe\">\n",
       "  <thead>\n",
       "    <tr style=\"text-align: right;\">\n",
       "      <th></th>\n",
       "      <th>location</th>\n",
       "      <th>district</th>\n",
       "      <th>rooms</th>\n",
       "      <th>size</th>\n",
       "      <th>level</th>\n",
       "      <th>max_levels</th>\n",
       "      <th>price</th>\n",
       "    </tr>\n",
       "  </thead>\n",
       "  <tbody>\n",
       "    <tr>\n",
       "      <th>0</th>\n",
       "      <td>город Ташкент, Юнусабадский район, Юнусабад 8-...</td>\n",
       "      <td>Юнусабадский</td>\n",
       "      <td>3</td>\n",
       "      <td>57.0</td>\n",
       "      <td>4</td>\n",
       "      <td>4</td>\n",
       "      <td>52000</td>\n",
       "    </tr>\n",
       "    <tr>\n",
       "      <th>1</th>\n",
       "      <td>город Ташкент, Яккасарайский район, 1-й тупик ...</td>\n",
       "      <td>Яккасарайский</td>\n",
       "      <td>2</td>\n",
       "      <td>52.0</td>\n",
       "      <td>4</td>\n",
       "      <td>5</td>\n",
       "      <td>56000</td>\n",
       "    </tr>\n",
       "    <tr>\n",
       "      <th>2</th>\n",
       "      <td>город Ташкент, Чиланзарский район, Чиланзар 2-...</td>\n",
       "      <td>Чиланзарский</td>\n",
       "      <td>2</td>\n",
       "      <td>42.0</td>\n",
       "      <td>4</td>\n",
       "      <td>4</td>\n",
       "      <td>37000</td>\n",
       "    </tr>\n",
       "    <tr>\n",
       "      <th>3</th>\n",
       "      <td>город Ташкент, Чиланзарский район, Чиланзар 9-...</td>\n",
       "      <td>Чиланзарский</td>\n",
       "      <td>3</td>\n",
       "      <td>65.0</td>\n",
       "      <td>1</td>\n",
       "      <td>4</td>\n",
       "      <td>49500</td>\n",
       "    </tr>\n",
       "    <tr>\n",
       "      <th>4</th>\n",
       "      <td>город Ташкент, Чиланзарский район, площадь Актепа</td>\n",
       "      <td>Чиланзарский</td>\n",
       "      <td>3</td>\n",
       "      <td>70.0</td>\n",
       "      <td>3</td>\n",
       "      <td>5</td>\n",
       "      <td>55000</td>\n",
       "    </tr>\n",
       "    <tr>\n",
       "      <th>...</th>\n",
       "      <td>...</td>\n",
       "      <td>...</td>\n",
       "      <td>...</td>\n",
       "      <td>...</td>\n",
       "      <td>...</td>\n",
       "      <td>...</td>\n",
       "      <td>...</td>\n",
       "    </tr>\n",
       "    <tr>\n",
       "      <th>7560</th>\n",
       "      <td>город Ташкент, Яшнободский район, Городок Авиа...</td>\n",
       "      <td>Яшнободский</td>\n",
       "      <td>1</td>\n",
       "      <td>38.0</td>\n",
       "      <td>5</td>\n",
       "      <td>5</td>\n",
       "      <td>24500</td>\n",
       "    </tr>\n",
       "    <tr>\n",
       "      <th>7561</th>\n",
       "      <td>город Ташкент, Яшнободский район, 1-й проезд А...</td>\n",
       "      <td>Яшнободский</td>\n",
       "      <td>2</td>\n",
       "      <td>49.0</td>\n",
       "      <td>1</td>\n",
       "      <td>4</td>\n",
       "      <td>32000</td>\n",
       "    </tr>\n",
       "    <tr>\n",
       "      <th>7562</th>\n",
       "      <td>город Ташкент, Шайхантахурский район, Зульфиях...</td>\n",
       "      <td>Шайхантахурский</td>\n",
       "      <td>2</td>\n",
       "      <td>64.0</td>\n",
       "      <td>3</td>\n",
       "      <td>9</td>\n",
       "      <td>40000</td>\n",
       "    </tr>\n",
       "    <tr>\n",
       "      <th>7563</th>\n",
       "      <td>город Ташкент, Мирзо-Улугбекский район, Буюк И...</td>\n",
       "      <td>Мирзо-Улугбекский</td>\n",
       "      <td>1</td>\n",
       "      <td>18.0</td>\n",
       "      <td>1</td>\n",
       "      <td>4</td>\n",
       "      <td>11000</td>\n",
       "    </tr>\n",
       "    <tr>\n",
       "      <th>7564</th>\n",
       "      <td>город Ташкент, Чиланзарский район, Чиланзар 6-...</td>\n",
       "      <td>Чиланзарский</td>\n",
       "      <td>1</td>\n",
       "      <td>30.0</td>\n",
       "      <td>2</td>\n",
       "      <td>4</td>\n",
       "      <td>22914</td>\n",
       "    </tr>\n",
       "  </tbody>\n",
       "</table>\n",
       "<p>7465 rows × 7 columns</p>\n",
       "</div>"
      ],
      "text/plain": [
       "                                               location           district  \\\n",
       "0     город Ташкент, Юнусабадский район, Юнусабад 8-...       Юнусабадский   \n",
       "1     город Ташкент, Яккасарайский район, 1-й тупик ...      Яккасарайский   \n",
       "2     город Ташкент, Чиланзарский район, Чиланзар 2-...       Чиланзарский   \n",
       "3     город Ташкент, Чиланзарский район, Чиланзар 9-...       Чиланзарский   \n",
       "4     город Ташкент, Чиланзарский район, площадь Актепа       Чиланзарский   \n",
       "...                                                 ...                ...   \n",
       "7560  город Ташкент, Яшнободский район, Городок Авиа...        Яшнободский   \n",
       "7561  город Ташкент, Яшнободский район, 1-й проезд А...        Яшнободский   \n",
       "7562  город Ташкент, Шайхантахурский район, Зульфиях...    Шайхантахурский   \n",
       "7563  город Ташкент, Мирзо-Улугбекский район, Буюк И...  Мирзо-Улугбекский   \n",
       "7564  город Ташкент, Чиланзарский район, Чиланзар 6-...       Чиланзарский   \n",
       "\n",
       "      rooms  size  level  max_levels  price  \n",
       "0         3  57.0      4           4  52000  \n",
       "1         2  52.0      4           5  56000  \n",
       "2         2  42.0      4           4  37000  \n",
       "3         3  65.0      1           4  49500  \n",
       "4         3  70.0      3           5  55000  \n",
       "...     ...   ...    ...         ...    ...  \n",
       "7560      1  38.0      5           5  24500  \n",
       "7561      2  49.0      1           4  32000  \n",
       "7562      2  64.0      3           9  40000  \n",
       "7563      1  18.0      1           4  11000  \n",
       "7564      1  30.0      2           4  22914  \n",
       "\n",
       "[7465 rows x 7 columns]"
      ]
     },
     "execution_count": 727,
     "metadata": {},
     "output_type": "execute_result"
    }
   ],
   "source": [
    "df.corrwith(df[\"price\"]).sort_values(ascending=False)\n",
    "df"
   ]
  },
  {
   "cell_type": "code",
   "execution_count": 665,
   "metadata": {},
   "outputs": [
    {
     "data": {
      "image/png": "[encoded data removed]",
      "text/plain": [
       "<Figure size 2160x432 with 1 Axes>"
      ]
     },
     "metadata": {
      "needs_background": "light"
     },
     "output_type": "display_data"
    }
   ],
   "source": [
    "%matplotlib inline\n",
    "df[\"price\"].hist(bins=500, figsize=(30,6))\n",
    "plt.show()"
   ]
  },
  {
   "cell_type": "code",
   "execution_count": 685,
   "metadata": {},
   "outputs": [
    {
     "data": {
      "image/png": "[encoded data removed]",
      "text/plain": [
       "<Figure size 1800x1800 with 30 Axes>"
      ]
     },
     "metadata": {
      "needs_background": "light"
     },
     "output_type": "display_data"
    }
   ],
   "source": [
    "cols = ['rooms','size','level','max_levels',\"price\"]\n",
    "sns.pairplot(df[cols], height=5)\n",
    "plt.show()"
   ]
  },
  {
   "cell_type": "code",
   "execution_count": 688,
   "metadata": {},
   "outputs": [],
   "source": [
    "df.corrwith(df[\"price\"])\n",
    "df[\"rooms_per_size\"]=df[\"rooms\"]/df[\"size\"]"
   ]
  },
  {
   "cell_type": "code",
   "execution_count": 679,
   "metadata": {},
   "outputs": [],
   "source": [
    "sonlar=list(range(1,7466))"
   ]
  },
  {
   "cell_type": "code",
   "execution_count": 742,
   "metadata": {},
   "outputs": [
    {
     "data": {
      "text/html": [
       "<div>\n",
       "<style scoped>\n",
       "    .dataframe tbody tr th:only-of-type {\n",
       "        vertical-align: middle;\n",
       "    }\n",
       "\n",
       "    .dataframe tbody tr th {\n",
       "        vertical-align: top;\n",
       "    }\n",
       "\n",
       "    .dataframe thead th {\n",
       "        text-align: right;\n",
       "    }\n",
       "</style>\n",
       "<table border=\"1\" class=\"dataframe\">\n",
       "  <thead>\n",
       "    <tr style=\"text-align: right;\">\n",
       "      <th></th>\n",
       "      <th>district</th>\n",
       "      <th>rooms</th>\n",
       "      <th>size</th>\n",
       "      <th>level</th>\n",
       "      <th>max_levels</th>\n",
       "      <th>price</th>\n",
       "    </tr>\n",
       "  </thead>\n",
       "  <tbody>\n",
       "    <tr>\n",
       "      <th>0</th>\n",
       "      <td>Юнусабадский</td>\n",
       "      <td>3</td>\n",
       "      <td>57.0</td>\n",
       "      <td>4</td>\n",
       "      <td>4</td>\n",
       "      <td>52000</td>\n",
       "    </tr>\n",
       "    <tr>\n",
       "      <th>1</th>\n",
       "      <td>Яккасарайский</td>\n",
       "      <td>2</td>\n",
       "      <td>52.0</td>\n",
       "      <td>4</td>\n",
       "      <td>5</td>\n",
       "      <td>56000</td>\n",
       "    </tr>\n",
       "    <tr>\n",
       "      <th>2</th>\n",
       "      <td>Чиланзарский</td>\n",
       "      <td>2</td>\n",
       "      <td>42.0</td>\n",
       "      <td>4</td>\n",
       "      <td>4</td>\n",
       "      <td>37000</td>\n",
       "    </tr>\n",
       "    <tr>\n",
       "      <th>3</th>\n",
       "      <td>Чиланзарский</td>\n",
       "      <td>3</td>\n",
       "      <td>65.0</td>\n",
       "      <td>1</td>\n",
       "      <td>4</td>\n",
       "      <td>49500</td>\n",
       "    </tr>\n",
       "    <tr>\n",
       "      <th>4</th>\n",
       "      <td>Чиланзарский</td>\n",
       "      <td>3</td>\n",
       "      <td>70.0</td>\n",
       "      <td>3</td>\n",
       "      <td>5</td>\n",
       "      <td>55000</td>\n",
       "    </tr>\n",
       "    <tr>\n",
       "      <th>...</th>\n",
       "      <td>...</td>\n",
       "      <td>...</td>\n",
       "      <td>...</td>\n",
       "      <td>...</td>\n",
       "      <td>...</td>\n",
       "      <td>...</td>\n",
       "    </tr>\n",
       "    <tr>\n",
       "      <th>7560</th>\n",
       "      <td>Яшнободский</td>\n",
       "      <td>1</td>\n",
       "      <td>38.0</td>\n",
       "      <td>5</td>\n",
       "      <td>5</td>\n",
       "      <td>24500</td>\n",
       "    </tr>\n",
       "    <tr>\n",
       "      <th>7561</th>\n",
       "      <td>Яшнободский</td>\n",
       "      <td>2</td>\n",
       "      <td>49.0</td>\n",
       "      <td>1</td>\n",
       "      <td>4</td>\n",
       "      <td>32000</td>\n",
       "    </tr>\n",
       "    <tr>\n",
       "      <th>7562</th>\n",
       "      <td>Шайхантахурский</td>\n",
       "      <td>2</td>\n",
       "      <td>64.0</td>\n",
       "      <td>3</td>\n",
       "      <td>9</td>\n",
       "      <td>40000</td>\n",
       "    </tr>\n",
       "    <tr>\n",
       "      <th>7563</th>\n",
       "      <td>Мирзо-Улугбекский</td>\n",
       "      <td>1</td>\n",
       "      <td>18.0</td>\n",
       "      <td>1</td>\n",
       "      <td>4</td>\n",
       "      <td>11000</td>\n",
       "    </tr>\n",
       "    <tr>\n",
       "      <th>7564</th>\n",
       "      <td>Чиланзарский</td>\n",
       "      <td>1</td>\n",
       "      <td>30.0</td>\n",
       "      <td>2</td>\n",
       "      <td>4</td>\n",
       "      <td>22914</td>\n",
       "    </tr>\n",
       "  </tbody>\n",
       "</table>\n",
       "<p>7465 rows × 6 columns</p>\n",
       "</div>"
      ],
      "text/plain": [
       "               district  rooms  size  level  max_levels  price\n",
       "0          Юнусабадский      3  57.0      4           4  52000\n",
       "1         Яккасарайский      2  52.0      4           5  56000\n",
       "2          Чиланзарский      2  42.0      4           4  37000\n",
       "3          Чиланзарский      3  65.0      1           4  49500\n",
       "4          Чиланзарский      3  70.0      3           5  55000\n",
       "...                 ...    ...   ...    ...         ...    ...\n",
       "7560        Яшнободский      1  38.0      5           5  24500\n",
       "7561        Яшнободский      2  49.0      1           4  32000\n",
       "7562    Шайхантахурский      2  64.0      3           9  40000\n",
       "7563  Мирзо-Улугбекский      1  18.0      1           4  11000\n",
       "7564       Чиланзарский      1  30.0      2           4  22914\n",
       "\n",
       "[7465 rows x 6 columns]"
      ]
     },
     "execution_count": 742,
     "metadata": {},
     "output_type": "execute_result"
    }
   ],
   "source": [
    "df"
   ]
  },
  {
   "cell_type": "code",
   "execution_count": 743,
   "metadata": {},
   "outputs": [],
   "source": [
    "from sklearn.model_selection import train_test_split\n",
    "train_set, test_set = train_test_split(df, test_size=0.2, random_state=42)\n",
    "\n",
    "X_train = train_set.drop(\"price\", axis=1)\n",
    "y = train_set[\"price\"].copy()\n",
    "\n",
    "X_num = X_train.drop(\"district\", axis=1)"
   ]
  },
  {
   "cell_type": "code",
   "execution_count": 744,
   "metadata": {},
   "outputs": [],
   "source": [
    "from sklearn.pipeline import Pipeline\n",
    "from sklearn.impute import SimpleImputer\n",
    "from sklearn.preprocessing import OneHotEncoder, StandardScaler\n",
    "\n",
    "num_pipeline = Pipeline([\n",
    "          ('std_scaler', StandardScaler())             \n",
    "])"
   ]
  },
  {
   "cell_type": "code",
   "execution_count": 748,
   "metadata": {},
   "outputs": [],
   "source": [
    "from sklearn.compose import ColumnTransformer\n",
    "\n",
    "num_attribs = list(X_num)\n",
    "cat_attribs = ['district']\n",
    "\n",
    "full_pipeline = ColumnTransformer([\n",
    "    ('num', num_pipeline, num_attribs),\n",
    "    ('cat', OneHotEncoder(), cat_attribs)\n",
    "])"
   ]
  },
  {
   "cell_type": "code",
   "execution_count": 749,
   "metadata": {},
   "outputs": [],
   "source": [
    "X_prepared = full_pipeline.fit_transform(X_train)"
   ]
  },
  {
   "cell_type": "code",
   "execution_count": 750,
   "metadata": {},
   "outputs": [
    {
     "data": {
      "text/plain": [
       "array([[-0.57458889, -0.03523441,  0.12524471, -0.78114458,  0.        ,\n",
       "         0.        ,  0.        ,  0.        ,  0.        ,  0.        ,\n",
       "         0.        ,  0.        ,  1.        ,  0.        ,  0.        ,\n",
       "         0.        ],\n",
       "       [-1.4952878 , -0.05655365, -1.20092799, -1.54042117,  0.        ,\n",
       "         0.        ,  1.        ,  0.        ,  0.        ,  0.        ,\n",
       "         0.        ,  0.        ,  0.        ,  0.        ,  0.        ,\n",
       "         0.        ],\n",
       "       [ 1.26680894,  0.00882535, -0.31681286, -0.40150628,  0.        ,\n",
       "         1.        ,  0.        ,  0.        ,  0.        ,  0.        ,\n",
       "         0.        ,  0.        ,  0.        ,  0.        ,  0.        ,\n",
       "         0.        ],\n",
       "       [-0.57458889, -0.03381313, -0.31681286,  1.11704692,  0.        ,\n",
       "         1.        ,  0.        ,  0.        ,  0.        ,  0.        ,\n",
       "         0.        ,  0.        ,  0.        ,  0.        ,  0.        ,\n",
       "         0.        ],\n",
       "       [-0.57458889, -0.04091954, -1.20092799, -0.40150628,  0.        ,\n",
       "         0.        ,  0.        ,  0.        ,  0.        ,  1.        ,\n",
       "         0.        ,  0.        ,  0.        ,  0.        ,  0.        ,\n",
       "         0.        ]])"
      ]
     },
     "execution_count": 750,
     "metadata": {},
     "output_type": "execute_result"
    }
   ],
   "source": [
    "X_prepared[0:5,:]"
   ]
  },
  {
   "cell_type": "code",
   "execution_count": 751,
   "metadata": {},
   "outputs": [],
   "source": [
    "from sklearn.linear_model import LinearRegression\n",
    "\n",
    "LR_model = LinearRegression()"
   ]
  },
  {
   "cell_type": "code",
   "execution_count": 752,
   "metadata": {},
   "outputs": [
    {
     "data": {
      "text/plain": [
       "LinearRegression()"
      ]
     },
     "execution_count": 752,
     "metadata": {},
     "output_type": "execute_result"
    }
   ],
   "source": [
    "LR_model.fit(X_prepared, y)"
   ]
  },
  {
   "cell_type": "code",
   "execution_count": 753,
   "metadata": {},
   "outputs": [
    {
     "data": {
      "text/html": [
       "<div>\n",
       "<style scoped>\n",
       "    .dataframe tbody tr th:only-of-type {\n",
       "        vertical-align: middle;\n",
       "    }\n",
       "\n",
       "    .dataframe tbody tr th {\n",
       "        vertical-align: top;\n",
       "    }\n",
       "\n",
       "    .dataframe thead th {\n",
       "        text-align: right;\n",
       "    }\n",
       "</style>\n",
       "<table border=\"1\" class=\"dataframe\">\n",
       "  <thead>\n",
       "    <tr style=\"text-align: right;\">\n",
       "      <th></th>\n",
       "      <th>district</th>\n",
       "      <th>rooms</th>\n",
       "      <th>size</th>\n",
       "      <th>level</th>\n",
       "      <th>max_levels</th>\n",
       "    </tr>\n",
       "  </thead>\n",
       "  <tbody>\n",
       "    <tr>\n",
       "      <th>497</th>\n",
       "      <td>Мирзо-Улугбекский</td>\n",
       "      <td>2</td>\n",
       "      <td>40.0</td>\n",
       "      <td>5</td>\n",
       "      <td>5</td>\n",
       "    </tr>\n",
       "    <tr>\n",
       "      <th>349</th>\n",
       "      <td>Чиланзарский</td>\n",
       "      <td>5</td>\n",
       "      <td>98.0</td>\n",
       "      <td>5</td>\n",
       "      <td>9</td>\n",
       "    </tr>\n",
       "    <tr>\n",
       "      <th>7114</th>\n",
       "      <td>Чиланзарский</td>\n",
       "      <td>2</td>\n",
       "      <td>63.0</td>\n",
       "      <td>4</td>\n",
       "      <td>4</td>\n",
       "    </tr>\n",
       "    <tr>\n",
       "      <th>1609</th>\n",
       "      <td>Мирабадский</td>\n",
       "      <td>4</td>\n",
       "      <td>107.0</td>\n",
       "      <td>8</td>\n",
       "      <td>9</td>\n",
       "    </tr>\n",
       "    <tr>\n",
       "      <th>851</th>\n",
       "      <td>Шайхантахурский</td>\n",
       "      <td>1</td>\n",
       "      <td>41.0</td>\n",
       "      <td>5</td>\n",
       "      <td>9</td>\n",
       "    </tr>\n",
       "  </tbody>\n",
       "</table>\n",
       "</div>"
      ],
      "text/plain": [
       "               district  rooms   size  level  max_levels\n",
       "497   Мирзо-Улугбекский      2   40.0      5           5\n",
       "349        Чиланзарский      5   98.0      5           9\n",
       "7114       Чиланзарский      2   63.0      4           4\n",
       "1609        Мирабадский      4  107.0      8           9\n",
       "851     Шайхантахурский      1   41.0      5           9"
      ]
     },
     "execution_count": 753,
     "metadata": {},
     "output_type": "execute_result"
    }
   ],
   "source": [
    "test_data = X_train.sample(5)\n",
    "test_data"
   ]
  },
  {
   "cell_type": "code",
   "execution_count": 754,
   "metadata": {},
   "outputs": [
    {
     "data": {
      "text/plain": [
       "497      31500\n",
       "349      70000\n",
       "7114     48500\n",
       "1609    100000\n",
       "851      31500\n",
       "Name: price, dtype: int64"
      ]
     },
     "execution_count": 754,
     "metadata": {},
     "output_type": "execute_result"
    }
   ],
   "source": [
    "test_label = y.loc[test_data.index]\n",
    "test_label"
   ]
  },
  {
   "cell_type": "code",
   "execution_count": 755,
   "metadata": {},
   "outputs": [
    {
     "data": {
      "text/plain": [
       "array([[-5.74588890e-01, -4.94472406e-02,  5.67302274e-01,\n",
       "        -4.01506278e-01,  0.00000000e+00,  0.00000000e+00,\n",
       "         1.00000000e+00,  0.00000000e+00,  0.00000000e+00,\n",
       "         0.00000000e+00,  0.00000000e+00,  0.00000000e+00,\n",
       "         0.00000000e+00,  0.00000000e+00,  0.00000000e+00,\n",
       "         0.00000000e+00],\n",
       "       [ 2.18750785e+00, -8.23004300e-03,  5.67302274e-01,\n",
       "         1.11704692e+00,  0.00000000e+00,  0.00000000e+00,\n",
       "         0.00000000e+00,  0.00000000e+00,  0.00000000e+00,\n",
       "         0.00000000e+00,  1.00000000e+00,  0.00000000e+00,\n",
       "         0.00000000e+00,  0.00000000e+00,  0.00000000e+00,\n",
       "         0.00000000e+00],\n",
       "       [-5.74588890e-01, -3.31024898e-02,  1.25244709e-01,\n",
       "        -7.81144577e-01,  0.00000000e+00,  0.00000000e+00,\n",
       "         0.00000000e+00,  0.00000000e+00,  0.00000000e+00,\n",
       "         0.00000000e+00,  1.00000000e+00,  0.00000000e+00,\n",
       "         0.00000000e+00,  0.00000000e+00,  0.00000000e+00,\n",
       "         0.00000000e+00],\n",
       "       [ 1.26680894e+00, -1.83427096e-03,  1.89347497e+00,\n",
       "         1.11704692e+00,  0.00000000e+00,  1.00000000e+00,\n",
       "         0.00000000e+00,  0.00000000e+00,  0.00000000e+00,\n",
       "         0.00000000e+00,  0.00000000e+00,  0.00000000e+00,\n",
       "         0.00000000e+00,  0.00000000e+00,  0.00000000e+00,\n",
       "         0.00000000e+00],\n",
       "       [-1.49528780e+00, -4.87365993e-02,  5.67302274e-01,\n",
       "         1.11704692e+00,  0.00000000e+00,  0.00000000e+00,\n",
       "         0.00000000e+00,  0.00000000e+00,  0.00000000e+00,\n",
       "         0.00000000e+00,  0.00000000e+00,  1.00000000e+00,\n",
       "         0.00000000e+00,  0.00000000e+00,  0.00000000e+00,\n",
       "         0.00000000e+00]])"
      ]
     },
     "execution_count": 755,
     "metadata": {},
     "output_type": "execute_result"
    }
   ],
   "source": [
    "test_data_prepared = full_pipeline.transform(test_data)\n",
    "test_data_prepared"
   ]
  },
  {
   "cell_type": "code",
   "execution_count": 756,
   "metadata": {},
   "outputs": [
    {
     "data": {
      "text/plain": [
       "array([ 38142.94611873, 115132.47970335,  34673.56016657, 115528.86614905,\n",
       "        81263.25956383])"
      ]
     },
     "execution_count": 756,
     "metadata": {},
     "output_type": "execute_result"
    }
   ],
   "source": [
    "predicted_data = LR_model.predict(test_data_prepared)\n",
    "predicted_data"
   ]
  },
  {
   "cell_type": "code",
   "execution_count": 757,
   "metadata": {},
   "outputs": [
    {
     "data": {
      "text/html": [
       "<div>\n",
       "<style scoped>\n",
       "    .dataframe tbody tr th:only-of-type {\n",
       "        vertical-align: middle;\n",
       "    }\n",
       "\n",
       "    .dataframe tbody tr th {\n",
       "        vertical-align: top;\n",
       "    }\n",
       "\n",
       "    .dataframe thead th {\n",
       "        text-align: right;\n",
       "    }\n",
       "</style>\n",
       "<table border=\"1\" class=\"dataframe\">\n",
       "  <thead>\n",
       "    <tr style=\"text-align: right;\">\n",
       "      <th></th>\n",
       "      <th>Prognoz</th>\n",
       "      <th>Real baxosi</th>\n",
       "    </tr>\n",
       "  </thead>\n",
       "  <tbody>\n",
       "    <tr>\n",
       "      <th>497</th>\n",
       "      <td>38142.946119</td>\n",
       "      <td>31500</td>\n",
       "    </tr>\n",
       "    <tr>\n",
       "      <th>349</th>\n",
       "      <td>115132.479703</td>\n",
       "      <td>70000</td>\n",
       "    </tr>\n",
       "    <tr>\n",
       "      <th>7114</th>\n",
       "      <td>34673.560167</td>\n",
       "      <td>48500</td>\n",
       "    </tr>\n",
       "    <tr>\n",
       "      <th>1609</th>\n",
       "      <td>115528.866149</td>\n",
       "      <td>100000</td>\n",
       "    </tr>\n",
       "    <tr>\n",
       "      <th>851</th>\n",
       "      <td>81263.259564</td>\n",
       "      <td>31500</td>\n",
       "    </tr>\n",
       "  </tbody>\n",
       "</table>\n",
       "</div>"
      ],
      "text/plain": [
       "            Prognoz  Real baxosi\n",
       "497    38142.946119        31500\n",
       "349   115132.479703        70000\n",
       "7114   34673.560167        48500\n",
       "1609  115528.866149       100000\n",
       "851    81263.259564        31500"
      ]
     },
     "execution_count": 757,
     "metadata": {},
     "output_type": "execute_result"
    }
   ],
   "source": [
    "pd.DataFrame({'Prognoz':predicted_data, 'Real baxosi': test_label})"
   ]
  },
  {
   "cell_type": "code",
   "execution_count": 759,
   "metadata": {},
   "outputs": [
    {
     "data": {
      "text/html": [
       "<div>\n",
       "<style scoped>\n",
       "    .dataframe tbody tr th:only-of-type {\n",
       "        vertical-align: middle;\n",
       "    }\n",
       "\n",
       "    .dataframe tbody tr th {\n",
       "        vertical-align: top;\n",
       "    }\n",
       "\n",
       "    .dataframe thead th {\n",
       "        text-align: right;\n",
       "    }\n",
       "</style>\n",
       "<table border=\"1\" class=\"dataframe\">\n",
       "  <thead>\n",
       "    <tr style=\"text-align: right;\">\n",
       "      <th></th>\n",
       "      <th>district</th>\n",
       "      <th>rooms</th>\n",
       "      <th>size</th>\n",
       "      <th>level</th>\n",
       "      <th>max_levels</th>\n",
       "    </tr>\n",
       "  </thead>\n",
       "  <tbody>\n",
       "    <tr>\n",
       "      <th>2301</th>\n",
       "      <td>Яшнободский</td>\n",
       "      <td>3</td>\n",
       "      <td>86.0</td>\n",
       "      <td>4</td>\n",
       "      <td>9</td>\n",
       "    </tr>\n",
       "    <tr>\n",
       "      <th>6126</th>\n",
       "      <td>Учтепинский</td>\n",
       "      <td>3</td>\n",
       "      <td>70.0</td>\n",
       "      <td>2</td>\n",
       "      <td>5</td>\n",
       "    </tr>\n",
       "    <tr>\n",
       "      <th>2149</th>\n",
       "      <td>Яккасарайский</td>\n",
       "      <td>3</td>\n",
       "      <td>90.0</td>\n",
       "      <td>5</td>\n",
       "      <td>5</td>\n",
       "    </tr>\n",
       "    <tr>\n",
       "      <th>5594</th>\n",
       "      <td>Чиланзарский</td>\n",
       "      <td>1</td>\n",
       "      <td>36.0</td>\n",
       "      <td>2</td>\n",
       "      <td>4</td>\n",
       "    </tr>\n",
       "    <tr>\n",
       "      <th>6566</th>\n",
       "      <td>Учтепинский</td>\n",
       "      <td>4</td>\n",
       "      <td>100.0</td>\n",
       "      <td>1</td>\n",
       "      <td>4</td>\n",
       "    </tr>\n",
       "    <tr>\n",
       "      <th>...</th>\n",
       "      <td>...</td>\n",
       "      <td>...</td>\n",
       "      <td>...</td>\n",
       "      <td>...</td>\n",
       "      <td>...</td>\n",
       "    </tr>\n",
       "    <tr>\n",
       "      <th>6593</th>\n",
       "      <td>Шайхантахурский</td>\n",
       "      <td>3</td>\n",
       "      <td>80.0</td>\n",
       "      <td>6</td>\n",
       "      <td>9</td>\n",
       "    </tr>\n",
       "    <tr>\n",
       "      <th>4089</th>\n",
       "      <td>Шайхантахурский</td>\n",
       "      <td>6</td>\n",
       "      <td>500.0</td>\n",
       "      <td>2</td>\n",
       "      <td>2</td>\n",
       "    </tr>\n",
       "    <tr>\n",
       "      <th>441</th>\n",
       "      <td>Чиланзарский</td>\n",
       "      <td>1</td>\n",
       "      <td>36.0</td>\n",
       "      <td>2</td>\n",
       "      <td>5</td>\n",
       "    </tr>\n",
       "    <tr>\n",
       "      <th>5639</th>\n",
       "      <td>Шайхантахурский</td>\n",
       "      <td>3</td>\n",
       "      <td>70.0</td>\n",
       "      <td>6</td>\n",
       "      <td>7</td>\n",
       "    </tr>\n",
       "    <tr>\n",
       "      <th>2538</th>\n",
       "      <td>Мирабадский</td>\n",
       "      <td>2</td>\n",
       "      <td>48.0</td>\n",
       "      <td>3</td>\n",
       "      <td>5</td>\n",
       "    </tr>\n",
       "  </tbody>\n",
       "</table>\n",
       "<p>1493 rows × 5 columns</p>\n",
       "</div>"
      ],
      "text/plain": [
       "             district  rooms   size  level  max_levels\n",
       "2301      Яшнободский      3   86.0      4           9\n",
       "6126      Учтепинский      3   70.0      2           5\n",
       "2149    Яккасарайский      3   90.0      5           5\n",
       "5594     Чиланзарский      1   36.0      2           4\n",
       "6566      Учтепинский      4  100.0      1           4\n",
       "...               ...    ...    ...    ...         ...\n",
       "6593  Шайхантахурский      3   80.0      6           9\n",
       "4089  Шайхантахурский      6  500.0      2           2\n",
       "441      Чиланзарский      1   36.0      2           5\n",
       "5639  Шайхантахурский      3   70.0      6           7\n",
       "2538      Мирабадский      2   48.0      3           5\n",
       "\n",
       "[1493 rows x 5 columns]"
      ]
     },
     "execution_count": 759,
     "metadata": {},
     "output_type": "execute_result"
    }
   ],
   "source": [
    "X_test = test_set.drop('price', axis=1)\n",
    "X_test"
   ]
  },
  {
   "cell_type": "code",
   "execution_count": 761,
   "metadata": {},
   "outputs": [
    {
     "data": {
      "text/plain": [
       "2301    89000\n",
       "6126    43500\n",
       "2149    45000\n",
       "5594    24700\n",
       "6566    87000\n",
       "        ...  \n",
       "6593    48000\n",
       "4089     1800\n",
       "441     28500\n",
       "5639    60000\n",
       "2538    42000\n",
       "Name: price, Length: 1493, dtype: int64"
      ]
     },
     "execution_count": 761,
     "metadata": {},
     "output_type": "execute_result"
    }
   ],
   "source": [
    "y_test = test_set['price'].copy()\n",
    "y_test"
   ]
  },
  {
   "cell_type": "code",
   "execution_count": 762,
   "metadata": {},
   "outputs": [],
   "source": [
    "X_test_prepared = full_pipeline.transform(X_test)"
   ]
  },
  {
   "cell_type": "code",
   "execution_count": 764,
   "metadata": {},
   "outputs": [],
   "source": [
    "y_predicted = LR_model.predict(X_test_prepared)"
   ]
  },
  {
   "cell_type": "code",
   "execution_count": 765,
   "metadata": {},
   "outputs": [
    {
     "name": "stdout",
     "output_type": "stream",
     "text": [
      "1366742.755611274\n"
     ]
    }
   ],
   "source": [
    "from sklearn.metrics import mean_squared_error\n",
    "lin_mse = mean_squared_error(y_test, y_predicted)\n",
    "# RMSE hisoblaymiz\n",
    "lin_rmse = np.sqrt(lin_mse)\n",
    "print(lin_rmse)"
   ]
  },
  {
   "cell_type": "code",
   "execution_count": 766,
   "metadata": {},
   "outputs": [
    {
     "data": {
      "text/plain": [
       "DecisionTreeRegressor()"
      ]
     },
     "execution_count": 766,
     "metadata": {},
     "output_type": "execute_result"
    }
   ],
   "source": [
    "from sklearn.tree import DecisionTreeRegressor\n",
    "Tree_model = DecisionTreeRegressor()\n",
    "Tree_model.fit(X_prepared, y)"
   ]
  },
  {
   "cell_type": "code",
   "execution_count": 767,
   "metadata": {},
   "outputs": [],
   "source": [
    "y_predicted = Tree_model.predict(X_test_prepared)"
   ]
  },
  {
   "cell_type": "code",
   "execution_count": 768,
   "metadata": {},
   "outputs": [
    {
     "name": "stdout",
     "output_type": "stream",
     "text": [
      "1370153.7246288005\n"
     ]
    }
   ],
   "source": [
    "lin_mse = mean_squared_error(y_test, y_predicted)\n",
    "# RMSE hisoblaymiz\n",
    "lin_rmse = np.sqrt(lin_mse)\n",
    "print(lin_rmse)"
   ]
  },
  {
   "cell_type": "code",
   "execution_count": 769,
   "metadata": {},
   "outputs": [
    {
     "data": {
      "text/plain": [
       "RandomForestRegressor()"
      ]
     },
     "execution_count": 769,
     "metadata": {},
     "output_type": "execute_result"
    }
   ],
   "source": [
    "from sklearn.ensemble import RandomForestRegressor\n",
    "RF_model = RandomForestRegressor()\n",
    "RF_model.fit(X_prepared, y)"
   ]
  },
  {
   "cell_type": "code",
   "execution_count": 770,
   "metadata": {},
   "outputs": [
    {
     "name": "stdout",
     "output_type": "stream",
     "text": [
      "1370433.8267313216\n"
     ]
    }
   ],
   "source": [
    "y_predicted = RF_model.predict(X_test_prepared)\n",
    "lin_mse = mean_squared_error(y_test, y_predicted)\n",
    "# RMSE hisoblaymiz\n",
    "lin_rmse = np.sqrt(lin_mse)\n",
    "print(lin_rmse)"
   ]
  },
  {
   "cell_type": "code",
   "execution_count": 773,
   "metadata": {},
   "outputs": [],
   "source": [
    "X = df.drop(\"price\", axis=1)\n",
    "y = df[\"price\"].copy()\n",
    "\n",
    "X_prepared = full_pipeline.transform(X)"
   ]
  },
  {
   "cell_type": "code",
   "execution_count": 775,
   "metadata": {},
   "outputs": [],
   "source": [
    "def display_scores(scores):\n",
    "    print(\"Scores:\", scores)\n",
    "    print(\"Mean:\", scores.mean())\n",
    "    print(\"Std.dev:\", scores.std())"
   ]
  },
  {
   "cell_type": "code",
   "execution_count": 776,
   "metadata": {},
   "outputs": [],
   "source": [
    "from sklearn.model_selection import cross_val_score"
   ]
  },
  {
   "cell_type": "code",
   "execution_count": 777,
   "metadata": {},
   "outputs": [],
   "source": [
    "scores = cross_val_score(LR_model, X_prepared, y, scoring=\"neg_mean_squared_error\", cv=10)\n",
    "LR_rmse_scores = np.sqrt(-scores)"
   ]
  },
  {
   "cell_type": "code",
   "execution_count": 778,
   "metadata": {},
   "outputs": [
    {
     "name": "stdout",
     "output_type": "stream",
     "text": [
      "Scores: [  72555.73963232   46818.73106055  144429.71285792   42474.71976401\n",
      "   48253.58258335   43527.84943424   52085.7886351  1901388.20302356\n",
      "  166777.44610516  650092.90111387]\n",
      "Mean: 316840.4674210096\n",
      "Std.dev: 556676.7608983462\n"
     ]
    }
   ],
   "source": [
    "display_scores(LR_rmse_scores)"
   ]
  },
  {
   "cell_type": "code",
   "execution_count": 779,
   "metadata": {},
   "outputs": [
    {
     "name": "stdout",
     "output_type": "stream",
     "text": [
      "Scores: [  63929.17874203  289649.11719639  141595.8984623   208325.20447546\n",
      "  156829.18722811   60384.32595794  565422.34516677 1907819.04797737\n",
      "  634724.33920062  642724.77810265]\n",
      "Mean: 467140.3422509649\n",
      "Std.dev: 526585.1386882135\n"
     ]
    }
   ],
   "source": [
    "scores = cross_val_score(Tree_model, X_prepared, y, scoring=\"neg_mean_squared_error\", cv=10)\n",
    "LR_rmse_scores = np.sqrt(-scores)\n",
    "display_scores(LR_rmse_scores)"
   ]
  },
  {
   "cell_type": "code",
   "execution_count": null,
   "metadata": {},
   "outputs": [],
   "source": []
  }
 ],
 "metadata": {
  "interpreter": {
   "hash": "b302cdd1e032ee910f5c889c3360c28564c92ad4f326fc3102e39fbe47faee66"
  },
  "kernelspec": {
   "display_name": "Python 3.9.7 ('base')",
   "language": "python",
   "name": "python3"
  },
  "language_info": {
   "codemirror_mode": {
    "name": "ipython",
    "version": 3
   },
   "file_extension": ".py",
   "mimetype": "text/x-python",
   "name": "python",
   "nbconvert_exporter": "python",
   "pygments_lexer": "ipython3",
   "version": "3.9.7"
  },
  "orig_nbformat": 4
 },
 "nbformat": 4,
 "nbformat_minor": 2
}
